{
 "cells": [
  {
   "cell_type": "code",
   "execution_count": 92,
   "metadata": {},
   "outputs": [
    {
     "data": {
      "text/html": [
       "<div>\n",
       "<style scoped>\n",
       "    .dataframe tbody tr th:only-of-type {\n",
       "        vertical-align: middle;\n",
       "    }\n",
       "\n",
       "    .dataframe tbody tr th {\n",
       "        vertical-align: top;\n",
       "    }\n",
       "\n",
       "    .dataframe thead th {\n",
       "        text-align: right;\n",
       "    }\n",
       "</style>\n",
       "<table border=\"1\" class=\"dataframe\">\n",
       "  <thead>\n",
       "    <tr style=\"text-align: right;\">\n",
       "      <th></th>\n",
       "      <th>id</th>\n",
       "      <th>date</th>\n",
       "      <th>price</th>\n",
       "      <th>bedrooms</th>\n",
       "      <th>bathrooms</th>\n",
       "      <th>sqft_living</th>\n",
       "      <th>sqft_lot</th>\n",
       "      <th>floors</th>\n",
       "      <th>waterfront</th>\n",
       "      <th>view</th>\n",
       "      <th>...</th>\n",
       "      <th>grade</th>\n",
       "      <th>sqft_above</th>\n",
       "      <th>sqft_basement</th>\n",
       "      <th>yr_built</th>\n",
       "      <th>yr_renovated</th>\n",
       "      <th>zipcode</th>\n",
       "      <th>lat</th>\n",
       "      <th>long</th>\n",
       "      <th>sqft_living15</th>\n",
       "      <th>sqft_lot15</th>\n",
       "    </tr>\n",
       "  </thead>\n",
       "  <tbody>\n",
       "    <tr>\n",
       "      <th>0</th>\n",
       "      <td>7129300520</td>\n",
       "      <td>20141013T000000</td>\n",
       "      <td>221900.0</td>\n",
       "      <td>3</td>\n",
       "      <td>1.00</td>\n",
       "      <td>1180</td>\n",
       "      <td>5650</td>\n",
       "      <td>1.0</td>\n",
       "      <td>0</td>\n",
       "      <td>0</td>\n",
       "      <td>...</td>\n",
       "      <td>7</td>\n",
       "      <td>1180</td>\n",
       "      <td>0</td>\n",
       "      <td>1955</td>\n",
       "      <td>0</td>\n",
       "      <td>98178</td>\n",
       "      <td>47.5112</td>\n",
       "      <td>-122.257</td>\n",
       "      <td>1340</td>\n",
       "      <td>5650</td>\n",
       "    </tr>\n",
       "    <tr>\n",
       "      <th>1</th>\n",
       "      <td>6414100192</td>\n",
       "      <td>20141209T000000</td>\n",
       "      <td>538000.0</td>\n",
       "      <td>3</td>\n",
       "      <td>2.25</td>\n",
       "      <td>2570</td>\n",
       "      <td>7242</td>\n",
       "      <td>2.0</td>\n",
       "      <td>0</td>\n",
       "      <td>0</td>\n",
       "      <td>...</td>\n",
       "      <td>7</td>\n",
       "      <td>2170</td>\n",
       "      <td>400</td>\n",
       "      <td>1951</td>\n",
       "      <td>1991</td>\n",
       "      <td>98125</td>\n",
       "      <td>47.7210</td>\n",
       "      <td>-122.319</td>\n",
       "      <td>1690</td>\n",
       "      <td>7639</td>\n",
       "    </tr>\n",
       "    <tr>\n",
       "      <th>2</th>\n",
       "      <td>5631500400</td>\n",
       "      <td>20150225T000000</td>\n",
       "      <td>180000.0</td>\n",
       "      <td>2</td>\n",
       "      <td>1.00</td>\n",
       "      <td>770</td>\n",
       "      <td>10000</td>\n",
       "      <td>1.0</td>\n",
       "      <td>0</td>\n",
       "      <td>0</td>\n",
       "      <td>...</td>\n",
       "      <td>6</td>\n",
       "      <td>770</td>\n",
       "      <td>0</td>\n",
       "      <td>1933</td>\n",
       "      <td>0</td>\n",
       "      <td>98028</td>\n",
       "      <td>47.7379</td>\n",
       "      <td>-122.233</td>\n",
       "      <td>2720</td>\n",
       "      <td>8062</td>\n",
       "    </tr>\n",
       "    <tr>\n",
       "      <th>3</th>\n",
       "      <td>2487200875</td>\n",
       "      <td>20141209T000000</td>\n",
       "      <td>604000.0</td>\n",
       "      <td>4</td>\n",
       "      <td>3.00</td>\n",
       "      <td>1960</td>\n",
       "      <td>5000</td>\n",
       "      <td>1.0</td>\n",
       "      <td>0</td>\n",
       "      <td>0</td>\n",
       "      <td>...</td>\n",
       "      <td>7</td>\n",
       "      <td>1050</td>\n",
       "      <td>910</td>\n",
       "      <td>1965</td>\n",
       "      <td>0</td>\n",
       "      <td>98136</td>\n",
       "      <td>47.5208</td>\n",
       "      <td>-122.393</td>\n",
       "      <td>1360</td>\n",
       "      <td>5000</td>\n",
       "    </tr>\n",
       "    <tr>\n",
       "      <th>4</th>\n",
       "      <td>1954400510</td>\n",
       "      <td>20150218T000000</td>\n",
       "      <td>510000.0</td>\n",
       "      <td>3</td>\n",
       "      <td>2.00</td>\n",
       "      <td>1680</td>\n",
       "      <td>8080</td>\n",
       "      <td>1.0</td>\n",
       "      <td>0</td>\n",
       "      <td>0</td>\n",
       "      <td>...</td>\n",
       "      <td>8</td>\n",
       "      <td>1680</td>\n",
       "      <td>0</td>\n",
       "      <td>1987</td>\n",
       "      <td>0</td>\n",
       "      <td>98074</td>\n",
       "      <td>47.6168</td>\n",
       "      <td>-122.045</td>\n",
       "      <td>1800</td>\n",
       "      <td>7503</td>\n",
       "    </tr>\n",
       "  </tbody>\n",
       "</table>\n",
       "<p>5 rows × 21 columns</p>\n",
       "</div>"
      ],
      "text/plain": [
       "           id             date     price  bedrooms  bathrooms  sqft_living  \\\n",
       "0  7129300520  20141013T000000  221900.0         3       1.00         1180   \n",
       "1  6414100192  20141209T000000  538000.0         3       2.25         2570   \n",
       "2  5631500400  20150225T000000  180000.0         2       1.00          770   \n",
       "3  2487200875  20141209T000000  604000.0         4       3.00         1960   \n",
       "4  1954400510  20150218T000000  510000.0         3       2.00         1680   \n",
       "\n",
       "   sqft_lot  floors  waterfront  view  ...  grade  sqft_above  sqft_basement  \\\n",
       "0      5650     1.0           0     0  ...      7        1180              0   \n",
       "1      7242     2.0           0     0  ...      7        2170            400   \n",
       "2     10000     1.0           0     0  ...      6         770              0   \n",
       "3      5000     1.0           0     0  ...      7        1050            910   \n",
       "4      8080     1.0           0     0  ...      8        1680              0   \n",
       "\n",
       "   yr_built  yr_renovated  zipcode      lat     long  sqft_living15  \\\n",
       "0      1955             0    98178  47.5112 -122.257           1340   \n",
       "1      1951          1991    98125  47.7210 -122.319           1690   \n",
       "2      1933             0    98028  47.7379 -122.233           2720   \n",
       "3      1965             0    98136  47.5208 -122.393           1360   \n",
       "4      1987             0    98074  47.6168 -122.045           1800   \n",
       "\n",
       "   sqft_lot15  \n",
       "0        5650  \n",
       "1        7639  \n",
       "2        8062  \n",
       "3        5000  \n",
       "4        7503  \n",
       "\n",
       "[5 rows x 21 columns]"
      ]
     },
     "execution_count": 92,
     "metadata": {},
     "output_type": "execute_result"
    }
   ],
   "source": [
    "import pandas as pd\n",
    "base = pd.read_csv('house_prices.csv')\n",
    "base.head()"
   ]
  },
  {
   "cell_type": "code",
   "execution_count": 93,
   "metadata": {},
   "outputs": [
    {
     "data": {
      "text/plain": [
       "(21613, 21)"
      ]
     },
     "execution_count": 93,
     "metadata": {},
     "output_type": "execute_result"
    }
   ],
   "source": [
    "base.shape"
   ]
  },
  {
   "cell_type": "code",
   "execution_count": 94,
   "metadata": {},
   "outputs": [],
   "source": [
    "X = base.iloc[:, 5:6].values\n",
    "y = base.iloc[:, 2:3].values"
   ]
  },
  {
   "cell_type": "code",
   "execution_count": 95,
   "metadata": {},
   "outputs": [
    {
     "data": {
      "text/plain": [
       "array([[1180],\n",
       "       [2570],\n",
       "       [ 770],\n",
       "       ...,\n",
       "       [1020],\n",
       "       [1600],\n",
       "       [1020]])"
      ]
     },
     "execution_count": 95,
     "metadata": {},
     "output_type": "execute_result"
    }
   ],
   "source": [
    "X"
   ]
  },
  {
   "cell_type": "code",
   "execution_count": 96,
   "metadata": {},
   "outputs": [
    {
     "data": {
      "text/plain": [
       "array([[221900.],\n",
       "       [538000.],\n",
       "       [180000.],\n",
       "       ...,\n",
       "       [402101.],\n",
       "       [400000.],\n",
       "       [325000.]])"
      ]
     },
     "execution_count": 96,
     "metadata": {},
     "output_type": "execute_result"
    }
   ],
   "source": [
    "y"
   ]
  },
  {
   "cell_type": "code",
   "execution_count": 97,
   "metadata": {},
   "outputs": [],
   "source": [
    "from sklearn.preprocessing import StandardScaler\n",
    "scale_x = StandardScaler()\n",
    "X = scale_x.fit_transform(X)\n",
    "scale_y = StandardScaler()\n",
    "y = scale_y.fit_transform(y)"
   ]
  },
  {
   "cell_type": "code",
   "execution_count": 98,
   "metadata": {},
   "outputs": [
    {
     "data": {
      "text/plain": [
       "array([[-0.97983502],\n",
       "       [ 0.53363434],\n",
       "       [-1.42625404],\n",
       "       ...,\n",
       "       [-1.15404732],\n",
       "       [-0.52252773],\n",
       "       [-1.15404732]])"
      ]
     },
     "execution_count": 98,
     "metadata": {},
     "output_type": "execute_result"
    }
   ],
   "source": [
    "X"
   ]
  },
  {
   "cell_type": "code",
   "execution_count": 99,
   "metadata": {},
   "outputs": [
    {
     "data": {
      "text/plain": [
       "array([[-0.86671733],\n",
       "       [-0.00568792],\n",
       "       [-0.98084935],\n",
       "       ...,\n",
       "       [-0.37586519],\n",
       "       [-0.38158814],\n",
       "       [-0.58588173]])"
      ]
     },
     "execution_count": 99,
     "metadata": {},
     "output_type": "execute_result"
    }
   ],
   "source": [
    "y"
   ]
  },
  {
   "cell_type": "code",
   "execution_count": 100,
   "metadata": {},
   "outputs": [],
   "source": [
    "import tensorflow.compat.v1 as tf\n",
    "tf.disable_v2_behavior()"
   ]
  },
  {
   "cell_type": "code",
   "execution_count": 101,
   "metadata": {},
   "outputs": [
    {
     "data": {
      "text/plain": [
       "[NumericColumn(key='x', shape=(1,), default_value=None, dtype=tf.float32, normalizer_fn=None)]"
      ]
     },
     "execution_count": 101,
     "metadata": {},
     "output_type": "execute_result"
    }
   ],
   "source": [
    "colunas = [tf.feature_column.numeric_column('x', shape = [1])]\n",
    "colunas"
   ]
  },
  {
   "cell_type": "code",
   "execution_count": 102,
   "metadata": {},
   "outputs": [
    {
     "name": "stdout",
     "output_type": "stream",
     "text": [
      "INFO:tensorflow:Using default config.\n",
      "WARNING:tensorflow:Using temporary folder as model directory: /var/folders/g6/p8gwgl9130db7k9305wfz8340000gn/T/tmppk0p84r3\n",
      "INFO:tensorflow:Using config: {'_model_dir': '/var/folders/g6/p8gwgl9130db7k9305wfz8340000gn/T/tmppk0p84r3', '_tf_random_seed': None, '_save_summary_steps': 100, '_save_checkpoints_steps': None, '_save_checkpoints_secs': 600, '_session_config': allow_soft_placement: true\n",
      "graph_options {\n",
      "  rewrite_options {\n",
      "    meta_optimizer_iterations: ONE\n",
      "  }\n",
      "}\n",
      ", '_keep_checkpoint_max': 5, '_keep_checkpoint_every_n_hours': 10000, '_log_step_count_steps': 100, '_train_distribute': None, '_device_fn': None, '_protocol': None, '_eval_distribute': None, '_experimental_distribute': None, '_experimental_max_worker_delay_secs': None, '_session_creation_timeout_secs': 7200, '_service': None, '_cluster_spec': <tensorflow.python.training.server_lib.ClusterSpec object at 0x7fc6eea502b0>, '_task_type': 'worker', '_task_id': 0, '_global_id_in_cluster': 0, '_master': '', '_evaluation_master': '', '_is_chief': True, '_num_ps_replicas': 0, '_num_worker_replicas': 1}\n"
     ]
    }
   ],
   "source": [
    "regressor = tf.estimator.LinearRegressor(feature_columns = colunas)"
   ]
  },
  {
   "cell_type": "code",
   "execution_count": 103,
   "metadata": {},
   "outputs": [],
   "source": [
    "from sklearn.model_selection import train_test_split\n",
    "X_treinamento, X_teste, y_treinamento, y_teste = train_test_split(X, y, test_size = 0.3)"
   ]
  },
  {
   "cell_type": "code",
   "execution_count": 104,
   "metadata": {},
   "outputs": [
    {
     "data": {
      "text/plain": [
       "(15129, 1)"
      ]
     },
     "execution_count": 104,
     "metadata": {},
     "output_type": "execute_result"
    }
   ],
   "source": [
    "X_treinamento.shape"
   ]
  },
  {
   "cell_type": "code",
   "execution_count": 105,
   "metadata": {},
   "outputs": [
    {
     "data": {
      "text/plain": [
       "(15129, 1)"
      ]
     },
     "execution_count": 105,
     "metadata": {},
     "output_type": "execute_result"
    }
   ],
   "source": [
    "y_treinamento.shape"
   ]
  },
  {
   "cell_type": "code",
   "execution_count": 106,
   "metadata": {},
   "outputs": [
    {
     "data": {
      "text/plain": [
       "(6484, 1)"
      ]
     },
     "execution_count": 106,
     "metadata": {},
     "output_type": "execute_result"
    }
   ],
   "source": [
    "X_teste.shape"
   ]
  },
  {
   "cell_type": "code",
   "execution_count": 107,
   "metadata": {},
   "outputs": [
    {
     "data": {
      "text/plain": [
       "(6484, 1)"
      ]
     },
     "execution_count": 107,
     "metadata": {},
     "output_type": "execute_result"
    }
   ],
   "source": [
    "y_teste.shape"
   ]
  },
  {
   "cell_type": "code",
   "execution_count": 108,
   "metadata": {},
   "outputs": [],
   "source": [
    "funcao_treinamento = tf.estimator.inputs.numpy_input_fn({'x': X_treinamento}, y_treinamento, \n",
    "                                                        batch_size=32, num_epochs= None, \n",
    "                                                        shuffle= True)"
   ]
  },
  {
   "cell_type": "code",
   "execution_count": 109,
   "metadata": {},
   "outputs": [],
   "source": [
    "funcao_teste = tf.estimator.inputs.numpy_input_fn({'x': X_teste}, y_teste, \n",
    "                                                  batch_size=32, num_epochs=1000, shuffle = False)"
   ]
  },
  {
   "cell_type": "code",
   "execution_count": 110,
   "metadata": {},
   "outputs": [
    {
     "name": "stdout",
     "output_type": "stream",
     "text": [
      "INFO:tensorflow:Calling model_fn.\n",
      "INFO:tensorflow:Done calling model_fn.\n",
      "INFO:tensorflow:Create CheckpointSaverHook.\n",
      "INFO:tensorflow:Graph was finalized.\n",
      "INFO:tensorflow:Running local_init_op.\n",
      "INFO:tensorflow:Done running local_init_op.\n",
      "INFO:tensorflow:Saving checkpoints for 0 into /var/folders/g6/p8gwgl9130db7k9305wfz8340000gn/T/tmppk0p84r3/model.ckpt.\n",
      "INFO:tensorflow:loss = 13.895179, step = 1\n",
      "INFO:tensorflow:global_step/sec: 518.818\n",
      "INFO:tensorflow:loss = 6.5598783, step = 101 (0.193 sec)\n",
      "INFO:tensorflow:global_step/sec: 673.668\n",
      "INFO:tensorflow:loss = 8.281682, step = 201 (0.149 sec)\n",
      "INFO:tensorflow:global_step/sec: 468.415\n",
      "INFO:tensorflow:loss = 9.685842, step = 301 (0.214 sec)\n",
      "INFO:tensorflow:global_step/sec: 682.017\n",
      "INFO:tensorflow:loss = 6.0574465, step = 401 (0.146 sec)\n",
      "INFO:tensorflow:global_step/sec: 936.31\n",
      "INFO:tensorflow:loss = 5.9893, step = 501 (0.109 sec)\n",
      "INFO:tensorflow:global_step/sec: 828.123\n",
      "INFO:tensorflow:loss = 13.111425, step = 601 (0.118 sec)\n",
      "INFO:tensorflow:global_step/sec: 794.022\n",
      "INFO:tensorflow:loss = 5.371417, step = 701 (0.126 sec)\n",
      "INFO:tensorflow:global_step/sec: 840.032\n",
      "INFO:tensorflow:loss = 18.981585, step = 801 (0.119 sec)\n",
      "INFO:tensorflow:global_step/sec: 774.923\n",
      "INFO:tensorflow:loss = 12.439899, step = 901 (0.129 sec)\n",
      "INFO:tensorflow:global_step/sec: 722.821\n",
      "INFO:tensorflow:loss = 5.150038, step = 1001 (0.139 sec)\n",
      "INFO:tensorflow:global_step/sec: 663.8\n",
      "INFO:tensorflow:loss = 10.647957, step = 1101 (0.151 sec)\n",
      "INFO:tensorflow:global_step/sec: 526.022\n",
      "INFO:tensorflow:loss = 9.513715, step = 1201 (0.189 sec)\n",
      "INFO:tensorflow:global_step/sec: 707.419\n",
      "INFO:tensorflow:loss = 22.621147, step = 1301 (0.142 sec)\n",
      "INFO:tensorflow:global_step/sec: 270.661\n",
      "INFO:tensorflow:loss = 15.92843, step = 1401 (0.369 sec)\n",
      "INFO:tensorflow:global_step/sec: 611.158\n",
      "INFO:tensorflow:loss = 10.222711, step = 1501 (0.163 sec)\n",
      "INFO:tensorflow:global_step/sec: 835.932\n",
      "INFO:tensorflow:loss = 12.099095, step = 1601 (0.119 sec)\n",
      "INFO:tensorflow:global_step/sec: 717.04\n",
      "INFO:tensorflow:loss = 18.294907, step = 1701 (0.140 sec)\n",
      "INFO:tensorflow:global_step/sec: 746.53\n",
      "INFO:tensorflow:loss = 9.289675, step = 1801 (0.134 sec)\n",
      "INFO:tensorflow:global_step/sec: 835.485\n",
      "INFO:tensorflow:loss = 7.434387, step = 1901 (0.120 sec)\n",
      "INFO:tensorflow:global_step/sec: 815.416\n",
      "INFO:tensorflow:loss = 11.967092, step = 2001 (0.122 sec)\n",
      "INFO:tensorflow:global_step/sec: 996.066\n",
      "INFO:tensorflow:loss = 13.838499, step = 2101 (0.100 sec)\n",
      "INFO:tensorflow:global_step/sec: 720.803\n",
      "INFO:tensorflow:loss = 17.364063, step = 2201 (0.139 sec)\n",
      "INFO:tensorflow:global_step/sec: 840.618\n",
      "INFO:tensorflow:loss = 10.720366, step = 2301 (0.119 sec)\n",
      "INFO:tensorflow:global_step/sec: 1077.93\n",
      "INFO:tensorflow:loss = 13.70166, step = 2401 (0.093 sec)\n",
      "INFO:tensorflow:global_step/sec: 843.924\n",
      "INFO:tensorflow:loss = 15.4310255, step = 2501 (0.118 sec)\n",
      "INFO:tensorflow:global_step/sec: 1016.11\n",
      "INFO:tensorflow:loss = 13.780033, step = 2601 (0.098 sec)\n",
      "INFO:tensorflow:global_step/sec: 930.31\n",
      "INFO:tensorflow:loss = 7.7807627, step = 2701 (0.108 sec)\n",
      "INFO:tensorflow:global_step/sec: 1026.84\n",
      "INFO:tensorflow:loss = 6.6070127, step = 2801 (0.097 sec)\n",
      "INFO:tensorflow:global_step/sec: 950.624\n",
      "INFO:tensorflow:loss = 6.822241, step = 2901 (0.106 sec)\n",
      "INFO:tensorflow:global_step/sec: 815.162\n",
      "INFO:tensorflow:loss = 13.29424, step = 3001 (0.122 sec)\n",
      "INFO:tensorflow:global_step/sec: 760.232\n",
      "INFO:tensorflow:loss = 17.840479, step = 3101 (0.132 sec)\n",
      "INFO:tensorflow:global_step/sec: 826.671\n",
      "INFO:tensorflow:loss = 10.747147, step = 3201 (0.121 sec)\n",
      "INFO:tensorflow:global_step/sec: 1010\n",
      "INFO:tensorflow:loss = 15.202677, step = 3301 (0.099 sec)\n",
      "INFO:tensorflow:global_step/sec: 923.361\n",
      "INFO:tensorflow:loss = 11.455051, step = 3401 (0.108 sec)\n",
      "INFO:tensorflow:global_step/sec: 1069.74\n",
      "INFO:tensorflow:loss = 9.679208, step = 3501 (0.094 sec)\n",
      "INFO:tensorflow:global_step/sec: 946.719\n",
      "INFO:tensorflow:loss = 11.163761, step = 3601 (0.105 sec)\n",
      "INFO:tensorflow:global_step/sec: 1038.99\n",
      "INFO:tensorflow:loss = 10.747583, step = 3701 (0.097 sec)\n",
      "INFO:tensorflow:global_step/sec: 1037\n",
      "INFO:tensorflow:loss = 8.590244, step = 3801 (0.096 sec)\n",
      "INFO:tensorflow:global_step/sec: 1008.87\n",
      "INFO:tensorflow:loss = 6.9656305, step = 3901 (0.099 sec)\n",
      "INFO:tensorflow:global_step/sec: 937.023\n",
      "INFO:tensorflow:loss = 10.738566, step = 4001 (0.107 sec)\n",
      "INFO:tensorflow:global_step/sec: 700.771\n",
      "INFO:tensorflow:loss = 9.4957905, step = 4101 (0.143 sec)\n",
      "INFO:tensorflow:global_step/sec: 903.914\n",
      "INFO:tensorflow:loss = 6.425641, step = 4201 (0.111 sec)\n",
      "INFO:tensorflow:global_step/sec: 1004.01\n",
      "INFO:tensorflow:loss = 17.656862, step = 4301 (0.099 sec)\n",
      "INFO:tensorflow:global_step/sec: 914.742\n",
      "INFO:tensorflow:loss = 10.899979, step = 4401 (0.110 sec)\n",
      "INFO:tensorflow:global_step/sec: 994.601\n",
      "INFO:tensorflow:loss = 11.691835, step = 4501 (0.100 sec)\n",
      "INFO:tensorflow:global_step/sec: 977.276\n",
      "INFO:tensorflow:loss = 10.713577, step = 4601 (0.102 sec)\n",
      "INFO:tensorflow:global_step/sec: 831.49\n",
      "INFO:tensorflow:loss = 12.0561075, step = 4701 (0.121 sec)\n",
      "INFO:tensorflow:global_step/sec: 854.549\n",
      "INFO:tensorflow:loss = 8.401344, step = 4801 (0.117 sec)\n",
      "INFO:tensorflow:global_step/sec: 944.18\n",
      "INFO:tensorflow:loss = 8.342551, step = 4901 (0.106 sec)\n",
      "INFO:tensorflow:global_step/sec: 797.88\n",
      "INFO:tensorflow:loss = 7.7151585, step = 5001 (0.125 sec)\n",
      "INFO:tensorflow:global_step/sec: 1115.85\n",
      "INFO:tensorflow:loss = 22.555592, step = 5101 (0.089 sec)\n",
      "INFO:tensorflow:global_step/sec: 1144.98\n",
      "INFO:tensorflow:loss = 10.341244, step = 5201 (0.088 sec)\n",
      "INFO:tensorflow:global_step/sec: 1026.1\n",
      "INFO:tensorflow:loss = 6.897892, step = 5301 (0.097 sec)\n",
      "INFO:tensorflow:global_step/sec: 938.235\n",
      "INFO:tensorflow:loss = 36.540783, step = 5401 (0.107 sec)\n",
      "INFO:tensorflow:global_step/sec: 891.648\n",
      "INFO:tensorflow:loss = 15.032213, step = 5501 (0.112 sec)\n",
      "INFO:tensorflow:global_step/sec: 752.626\n",
      "INFO:tensorflow:loss = 9.278259, step = 5601 (0.133 sec)\n",
      "INFO:tensorflow:global_step/sec: 663.997\n",
      "INFO:tensorflow:loss = 9.908424, step = 5701 (0.150 sec)\n",
      "INFO:tensorflow:global_step/sec: 876.586\n",
      "INFO:tensorflow:loss = 7.368043, step = 5801 (0.115 sec)\n",
      "INFO:tensorflow:global_step/sec: 1000.79\n",
      "INFO:tensorflow:loss = 13.164526, step = 5901 (0.099 sec)\n",
      "INFO:tensorflow:global_step/sec: 848.074\n",
      "INFO:tensorflow:loss = 9.169988, step = 6001 (0.118 sec)\n",
      "INFO:tensorflow:global_step/sec: 927.886\n",
      "INFO:tensorflow:loss = 7.5545306, step = 6101 (0.108 sec)\n",
      "INFO:tensorflow:global_step/sec: 883.54\n",
      "INFO:tensorflow:loss = 5.738524, step = 6201 (0.113 sec)\n",
      "INFO:tensorflow:global_step/sec: 876.485\n",
      "INFO:tensorflow:loss = 12.925833, step = 6301 (0.114 sec)\n",
      "INFO:tensorflow:global_step/sec: 997.796\n",
      "INFO:tensorflow:loss = 22.327938, step = 6401 (0.101 sec)\n",
      "INFO:tensorflow:global_step/sec: 900.359\n",
      "INFO:tensorflow:loss = 16.155304, step = 6501 (0.111 sec)\n",
      "INFO:tensorflow:global_step/sec: 1059.15\n",
      "INFO:tensorflow:loss = 6.314168, step = 6601 (0.094 sec)\n",
      "INFO:tensorflow:global_step/sec: 845.045\n",
      "INFO:tensorflow:loss = 6.2676744, step = 6701 (0.118 sec)\n",
      "INFO:tensorflow:global_step/sec: 1093.59\n",
      "INFO:tensorflow:loss = 9.973195, step = 6801 (0.091 sec)\n",
      "INFO:tensorflow:global_step/sec: 957.02\n",
      "INFO:tensorflow:loss = 10.011723, step = 6901 (0.105 sec)\n",
      "INFO:tensorflow:global_step/sec: 842.964\n",
      "INFO:tensorflow:loss = 28.85137, step = 7001 (0.119 sec)\n",
      "INFO:tensorflow:global_step/sec: 944.68\n",
      "INFO:tensorflow:loss = 21.752579, step = 7101 (0.106 sec)\n",
      "INFO:tensorflow:global_step/sec: 869.333\n",
      "INFO:tensorflow:loss = 8.553515, step = 7201 (0.115 sec)\n",
      "INFO:tensorflow:global_step/sec: 1076.74\n",
      "INFO:tensorflow:loss = 7.6833754, step = 7301 (0.093 sec)\n",
      "INFO:tensorflow:global_step/sec: 539.096\n",
      "INFO:tensorflow:loss = 19.953045, step = 7401 (0.186 sec)\n",
      "INFO:tensorflow:global_step/sec: 1025.88\n",
      "INFO:tensorflow:loss = 21.365002, step = 7501 (0.097 sec)\n",
      "INFO:tensorflow:global_step/sec: 443.04\n",
      "INFO:tensorflow:loss = 21.35615, step = 7601 (0.226 sec)\n",
      "INFO:tensorflow:global_step/sec: 938.342\n",
      "INFO:tensorflow:loss = 12.265143, step = 7701 (0.108 sec)\n",
      "INFO:tensorflow:global_step/sec: 958.937\n",
      "INFO:tensorflow:loss = 21.456364, step = 7801 (0.103 sec)\n",
      "INFO:tensorflow:global_step/sec: 651.394\n",
      "INFO:tensorflow:loss = 16.685371, step = 7901 (0.153 sec)\n",
      "INFO:tensorflow:global_step/sec: 887.753\n"
     ]
    },
    {
     "name": "stdout",
     "output_type": "stream",
     "text": [
      "INFO:tensorflow:loss = 21.872547, step = 8001 (0.113 sec)\n",
      "INFO:tensorflow:global_step/sec: 937.497\n",
      "INFO:tensorflow:loss = 16.131353, step = 8101 (0.107 sec)\n",
      "INFO:tensorflow:global_step/sec: 820.601\n",
      "INFO:tensorflow:loss = 12.429132, step = 8201 (0.122 sec)\n",
      "INFO:tensorflow:global_step/sec: 1030.63\n",
      "INFO:tensorflow:loss = 6.1460524, step = 8301 (0.097 sec)\n",
      "INFO:tensorflow:global_step/sec: 920.753\n",
      "INFO:tensorflow:loss = 17.721008, step = 8401 (0.109 sec)\n",
      "INFO:tensorflow:global_step/sec: 805.605\n",
      "INFO:tensorflow:loss = 34.503036, step = 8501 (0.124 sec)\n",
      "INFO:tensorflow:global_step/sec: 927.722\n",
      "INFO:tensorflow:loss = 11.251563, step = 8601 (0.108 sec)\n",
      "INFO:tensorflow:global_step/sec: 773.79\n",
      "INFO:tensorflow:loss = 16.997303, step = 8701 (0.129 sec)\n",
      "INFO:tensorflow:global_step/sec: 865.456\n",
      "INFO:tensorflow:loss = 9.8425045, step = 8801 (0.116 sec)\n",
      "INFO:tensorflow:global_step/sec: 1003.11\n",
      "INFO:tensorflow:loss = 11.578918, step = 8901 (0.100 sec)\n",
      "INFO:tensorflow:global_step/sec: 881.384\n",
      "INFO:tensorflow:loss = 17.39926, step = 9001 (0.114 sec)\n",
      "INFO:tensorflow:global_step/sec: 1000.81\n",
      "INFO:tensorflow:loss = 12.683521, step = 9101 (0.100 sec)\n",
      "INFO:tensorflow:global_step/sec: 1114.13\n",
      "INFO:tensorflow:loss = 39.091946, step = 9201 (0.090 sec)\n",
      "INFO:tensorflow:global_step/sec: 788.892\n",
      "INFO:tensorflow:loss = 15.085138, step = 9301 (0.127 sec)\n",
      "INFO:tensorflow:global_step/sec: 875.113\n",
      "INFO:tensorflow:loss = 7.3590097, step = 9401 (0.114 sec)\n",
      "INFO:tensorflow:global_step/sec: 939.736\n",
      "INFO:tensorflow:loss = 8.266753, step = 9501 (0.106 sec)\n",
      "INFO:tensorflow:global_step/sec: 767.677\n",
      "INFO:tensorflow:loss = 12.725895, step = 9601 (0.130 sec)\n",
      "INFO:tensorflow:global_step/sec: 1051.84\n",
      "INFO:tensorflow:loss = 8.004098, step = 9701 (0.095 sec)\n",
      "INFO:tensorflow:global_step/sec: 820.023\n",
      "INFO:tensorflow:loss = 10.201969, step = 9801 (0.122 sec)\n",
      "INFO:tensorflow:global_step/sec: 694.144\n",
      "INFO:tensorflow:loss = 17.093945, step = 9901 (0.144 sec)\n",
      "INFO:tensorflow:Saving checkpoints for 10000 into /var/folders/g6/p8gwgl9130db7k9305wfz8340000gn/T/tmppk0p84r3/model.ckpt.\n",
      "INFO:tensorflow:Loss for final step: 5.970512.\n"
     ]
    },
    {
     "data": {
      "text/plain": [
       "<tensorflow_estimator.python.estimator.canned.linear.LinearRegressor at 0x7fc6ecaacac8>"
      ]
     },
     "execution_count": 110,
     "metadata": {},
     "output_type": "execute_result"
    }
   ],
   "source": [
    "regressor.train(input_fn=funcao_treinamento, steps = 10000)"
   ]
  },
  {
   "cell_type": "code",
   "execution_count": 111,
   "metadata": {},
   "outputs": [
    {
     "name": "stdout",
     "output_type": "stream",
     "text": [
      "INFO:tensorflow:Calling model_fn.\n",
      "INFO:tensorflow:Done calling model_fn.\n",
      "INFO:tensorflow:Starting evaluation at 2020-07-20T13:20:04Z\n",
      "INFO:tensorflow:Graph was finalized.\n",
      "INFO:tensorflow:Restoring parameters from /var/folders/g6/p8gwgl9130db7k9305wfz8340000gn/T/tmppk0p84r3/model.ckpt-10000\n",
      "INFO:tensorflow:Running local_init_op.\n",
      "INFO:tensorflow:Done running local_init_op.\n",
      "INFO:tensorflow:Evaluation [1000/10000]\n",
      "INFO:tensorflow:Evaluation [2000/10000]\n",
      "INFO:tensorflow:Evaluation [3000/10000]\n",
      "INFO:tensorflow:Evaluation [4000/10000]\n",
      "INFO:tensorflow:Evaluation [5000/10000]\n",
      "INFO:tensorflow:Evaluation [6000/10000]\n",
      "INFO:tensorflow:Evaluation [7000/10000]\n",
      "INFO:tensorflow:Evaluation [8000/10000]\n",
      "INFO:tensorflow:Evaluation [9000/10000]\n",
      "INFO:tensorflow:Evaluation [10000/10000]\n",
      "INFO:tensorflow:Finished evaluation at 2020-07-20-13:20:12\n",
      "INFO:tensorflow:Saving dict for global step 10000: average_loss = 0.51644075, global_step = 10000, label/mean = 0.0025011578, loss = 16.526104, prediction/mean = -0.00034979568\n",
      "INFO:tensorflow:Saving 'checkpoint_path' summary for global step 10000: /var/folders/g6/p8gwgl9130db7k9305wfz8340000gn/T/tmppk0p84r3/model.ckpt-10000\n"
     ]
    }
   ],
   "source": [
    "metricas_treinamento = regressor.evaluate(input_fn=funcao_treinamento, steps = 10000)"
   ]
  },
  {
   "cell_type": "code",
   "execution_count": 112,
   "metadata": {},
   "outputs": [
    {
     "name": "stdout",
     "output_type": "stream",
     "text": [
      "INFO:tensorflow:Calling model_fn.\n",
      "INFO:tensorflow:Done calling model_fn.\n",
      "INFO:tensorflow:Starting evaluation at 2020-07-20T13:20:13Z\n",
      "INFO:tensorflow:Graph was finalized.\n",
      "INFO:tensorflow:Restoring parameters from /var/folders/g6/p8gwgl9130db7k9305wfz8340000gn/T/tmppk0p84r3/model.ckpt-10000\n",
      "INFO:tensorflow:Running local_init_op.\n",
      "INFO:tensorflow:Done running local_init_op.\n",
      "INFO:tensorflow:Evaluation [1000/10000]\n",
      "INFO:tensorflow:Evaluation [2000/10000]\n",
      "INFO:tensorflow:Evaluation [3000/10000]\n",
      "INFO:tensorflow:Evaluation [4000/10000]\n",
      "INFO:tensorflow:Evaluation [5000/10000]\n",
      "INFO:tensorflow:Evaluation [6000/10000]\n",
      "INFO:tensorflow:Evaluation [7000/10000]\n",
      "INFO:tensorflow:Evaluation [8000/10000]\n",
      "INFO:tensorflow:Evaluation [9000/10000]\n",
      "INFO:tensorflow:Evaluation [10000/10000]\n",
      "INFO:tensorflow:Finished evaluation at 2020-07-20-13:20:23\n",
      "INFO:tensorflow:Saving dict for global step 10000: average_loss = 0.48569232, global_step = 10000, label/mean = -0.0056905486, loss = 15.542154, prediction/mean = 0.009124897\n",
      "INFO:tensorflow:Saving 'checkpoint_path' summary for global step 10000: /var/folders/g6/p8gwgl9130db7k9305wfz8340000gn/T/tmppk0p84r3/model.ckpt-10000\n"
     ]
    }
   ],
   "source": [
    "metricas_teste = regressor.evaluate(input_fn=funcao_teste, steps=10000)"
   ]
  },
  {
   "cell_type": "code",
   "execution_count": 113,
   "metadata": {},
   "outputs": [
    {
     "data": {
      "text/plain": [
       "{'average_loss': 0.51644075,\n",
       " 'label/mean': 0.0025011578,\n",
       " 'loss': 16.526104,\n",
       " 'prediction/mean': -0.00034979568,\n",
       " 'global_step': 10000}"
      ]
     },
     "execution_count": 113,
     "metadata": {},
     "output_type": "execute_result"
    }
   ],
   "source": [
    "metricas_treinamento"
   ]
  },
  {
   "cell_type": "code",
   "execution_count": 114,
   "metadata": {},
   "outputs": [
    {
     "data": {
      "text/plain": [
       "{'average_loss': 0.48569232,\n",
       " 'label/mean': -0.0056905486,\n",
       " 'loss': 15.542154,\n",
       " 'prediction/mean': 0.009124897,\n",
       " 'global_step': 10000}"
      ]
     },
     "execution_count": 114,
     "metadata": {},
     "output_type": "execute_result"
    }
   ],
   "source": [
    "metricas_teste"
   ]
  },
  {
   "cell_type": "code",
   "execution_count": 115,
   "metadata": {},
   "outputs": [
    {
     "data": {
      "text/plain": [
       "array([[ 800],\n",
       "       [ 900],\n",
       "       [1000]])"
      ]
     },
     "execution_count": 115,
     "metadata": {},
     "output_type": "execute_result"
    }
   ],
   "source": [
    "import numpy as np\n",
    "novas_casas = np.array([[800], [900], [1000]])\n",
    "novas_casas"
   ]
  },
  {
   "cell_type": "code",
   "execution_count": 116,
   "metadata": {},
   "outputs": [
    {
     "data": {
      "text/plain": [
       "array([[-1.39358923],\n",
       "       [-1.28470655],\n",
       "       [-1.17582386]])"
      ]
     },
     "execution_count": 116,
     "metadata": {},
     "output_type": "execute_result"
    }
   ],
   "source": [
    "novas_casas = scale_x.transform(novas_casas)\n",
    "novas_casas"
   ]
  },
  {
   "cell_type": "code",
   "execution_count": 117,
   "metadata": {},
   "outputs": [],
   "source": [
    "funcao_previsao = tf.estimator.inputs.numpy_input_fn({'x': novas_casas}, shuffle = False)"
   ]
  },
  {
   "cell_type": "code",
   "execution_count": 118,
   "metadata": {},
   "outputs": [
    {
     "data": {
      "text/plain": [
       "<generator object Estimator.predict at 0x7fc70a040eb8>"
      ]
     },
     "execution_count": 118,
     "metadata": {},
     "output_type": "execute_result"
    }
   ],
   "source": [
    "previsoes = regressor.predict(input_fn=funcao_previsao)\n",
    "previsoes"
   ]
  },
  {
   "cell_type": "code",
   "execution_count": 119,
   "metadata": {
    "scrolled": true
   },
   "outputs": [
    {
     "name": "stdout",
     "output_type": "stream",
     "text": [
      "INFO:tensorflow:Calling model_fn.\n",
      "INFO:tensorflow:Done calling model_fn.\n",
      "INFO:tensorflow:Graph was finalized.\n",
      "INFO:tensorflow:Restoring parameters from /var/folders/g6/p8gwgl9130db7k9305wfz8340000gn/T/tmppk0p84r3/model.ckpt-10000\n",
      "INFO:tensorflow:Running local_init_op.\n",
      "INFO:tensorflow:Done running local_init_op.\n"
     ]
    },
    {
     "data": {
      "text/plain": [
       "[{'predictions': array([-0.9715262], dtype=float32)},\n",
       " {'predictions': array([-0.8954335], dtype=float32)},\n",
       " {'predictions': array([-0.8193407], dtype=float32)}]"
      ]
     },
     "execution_count": 119,
     "metadata": {},
     "output_type": "execute_result"
    }
   ],
   "source": [
    "list(previsoes)"
   ]
  },
  {
   "cell_type": "code",
   "execution_count": 121,
   "metadata": {},
   "outputs": [
    {
     "name": "stdout",
     "output_type": "stream",
     "text": [
      "INFO:tensorflow:Calling model_fn.\n",
      "INFO:tensorflow:Done calling model_fn.\n",
      "INFO:tensorflow:Graph was finalized.\n",
      "INFO:tensorflow:Restoring parameters from /var/folders/g6/p8gwgl9130db7k9305wfz8340000gn/T/tmppk0p84r3/model.ckpt-10000\n",
      "INFO:tensorflow:Running local_init_op.\n",
      "INFO:tensorflow:Done running local_init_op.\n",
      "[183422.7]\n",
      "[211357.77]\n",
      "[239292.83]\n"
     ]
    }
   ],
   "source": [
    "for p in regressor.predict(input_fn=funcao_previsao):\n",
    "#     print(p['predictions'])\n",
    "    print(scale_y.inverse_transform(p['predictions']))"
   ]
  }
 ],
 "metadata": {
  "kernelspec": {
   "display_name": "Python 3",
   "language": "python",
   "name": "python3"
  },
  "language_info": {
   "codemirror_mode": {
    "name": "ipython",
    "version": 3
   },
   "file_extension": ".py",
   "mimetype": "text/x-python",
   "name": "python",
   "nbconvert_exporter": "python",
   "pygments_lexer": "ipython3",
   "version": "3.6.10"
  }
 },
 "nbformat": 4,
 "nbformat_minor": 4
}
